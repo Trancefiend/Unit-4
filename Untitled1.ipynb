{
 "cells": [
  {
   "cell_type": "code",
   "execution_count": 1,
   "metadata": {},
   "outputs": [],
   "source": [
    "import os\n",
    "import re\n",
    "import numpy as np\n",
    "import pandas as pd\n",
    "import matplotlib.pyplot as plt\n",
    "import seaborn as sns\n",
    "import nltk\n",
    "import spacy\n",
    "from textblob import TextBlob\n",
    "%matplotlib inline"
   ]
  },
  {
   "cell_type": "code",
   "execution_count": 2,
   "metadata": {},
   "outputs": [],
   "source": [
    "#import all the SOTU txt files\n",
    "data_folder = 'state-of-the-union-corpus-1989-2017'\n",
    "file_list = [os.path.join(data_folder, fn) for fn in os.listdir(data_folder)]\n",
    "\n",
    "#create lists for the year and President who gave the speech\n",
    "years = []\n",
    "potus = []\n",
    "for file in os.listdir(data_folder):\n",
    "    year = file[:4]\n",
    "    pres = file[5:-4]\n",
    "    pres = re.sub('[^a-zA-Z]+', '', pres)\n",
    "    years.append(year)\n",
    "    potus.append(pres)"
   ]
  },
  {
   "cell_type": "code",
   "execution_count": 3,
   "metadata": {},
   "outputs": [],
   "source": [
    "df = pd.DataFrame(file_list, columns=['path'])\n",
    "df['year'] = years\n",
    "df['year'] = df['year'].astype(int)\n",
    "df['president'] = potus"
   ]
  },
  {
   "cell_type": "code",
   "execution_count": 4,
   "metadata": {},
   "outputs": [
    {
     "data": {
      "text/html": [
       "<div>\n",
       "<style scoped>\n",
       "    .dataframe tbody tr th:only-of-type {\n",
       "        vertical-align: middle;\n",
       "    }\n",
       "\n",
       "    .dataframe tbody tr th {\n",
       "        vertical-align: top;\n",
       "    }\n",
       "\n",
       "    .dataframe thead th {\n",
       "        text-align: right;\n",
       "    }\n",
       "</style>\n",
       "<table border=\"1\" class=\"dataframe\">\n",
       "  <thead>\n",
       "    <tr style=\"text-align: right;\">\n",
       "      <th></th>\n",
       "      <th>path</th>\n",
       "      <th>year</th>\n",
       "      <th>president</th>\n",
       "      <th>tokens</th>\n",
       "      <th>sentiment</th>\n",
       "    </tr>\n",
       "  </thead>\n",
       "  <tbody>\n",
       "    <tr>\n",
       "      <th>0</th>\n",
       "      <td>state-of-the-union-corpus-1989-2017\\1945-Truma...</td>\n",
       "      <td>1945</td>\n",
       "      <td>Truman</td>\n",
       "      <td>[PRESIDENT, HARRY, S, TRUMAN, 'S, ADDRESS, BEF...</td>\n",
       "      <td>0.103764</td>\n",
       "    </tr>\n",
       "    <tr>\n",
       "      <th>1</th>\n",
       "      <td>state-of-the-union-corpus-1989-2017\\1946-Truma...</td>\n",
       "      <td>1946</td>\n",
       "      <td>Truman</td>\n",
       "      <td>[PRESIDENT, HARRY, S, TRUMAN, 'S, MESSAGE, TO,...</td>\n",
       "      <td>0.111545</td>\n",
       "    </tr>\n",
       "    <tr>\n",
       "      <th>2</th>\n",
       "      <td>state-of-the-union-corpus-1989-2017\\1947-Truma...</td>\n",
       "      <td>1947</td>\n",
       "      <td>Truman</td>\n",
       "      <td>[PRESIDENT, HARRY, S, TRUMAN, 'S, ANNUAL, MESS...</td>\n",
       "      <td>0.136731</td>\n",
       "    </tr>\n",
       "    <tr>\n",
       "      <th>3</th>\n",
       "      <td>state-of-the-union-corpus-1989-2017\\1948-Truma...</td>\n",
       "      <td>1948</td>\n",
       "      <td>Truman</td>\n",
       "      <td>[PRESIDENT, HARRY, S, TRUMAN, 'S, ANNUAL, MESS...</td>\n",
       "      <td>0.165403</td>\n",
       "    </tr>\n",
       "    <tr>\n",
       "      <th>4</th>\n",
       "      <td>state-of-the-union-corpus-1989-2017\\1949-Truma...</td>\n",
       "      <td>1949</td>\n",
       "      <td>Truman</td>\n",
       "      <td>[PRESIDENT, HARRY, S, TRUMAN, 'S, ANNUAL, MESS...</td>\n",
       "      <td>0.155075</td>\n",
       "    </tr>\n",
       "  </tbody>\n",
       "</table>\n",
       "</div>"
      ],
      "text/plain": [
       "                                                path  year president  \\\n",
       "0  state-of-the-union-corpus-1989-2017\\1945-Truma...  1945    Truman   \n",
       "1  state-of-the-union-corpus-1989-2017\\1946-Truma...  1946    Truman   \n",
       "2  state-of-the-union-corpus-1989-2017\\1947-Truma...  1947    Truman   \n",
       "3  state-of-the-union-corpus-1989-2017\\1948-Truma...  1948    Truman   \n",
       "4  state-of-the-union-corpus-1989-2017\\1949-Truma...  1949    Truman   \n",
       "\n",
       "                                              tokens  sentiment  \n",
       "0  [PRESIDENT, HARRY, S, TRUMAN, 'S, ADDRESS, BEF...   0.103764  \n",
       "1  [PRESIDENT, HARRY, S, TRUMAN, 'S, MESSAGE, TO,...   0.111545  \n",
       "2  [PRESIDENT, HARRY, S, TRUMAN, 'S, ANNUAL, MESS...   0.136731  \n",
       "3  [PRESIDENT, HARRY, S, TRUMAN, 'S, ANNUAL, MESS...   0.165403  \n",
       "4  [PRESIDENT, HARRY, S, TRUMAN, 'S, ANNUAL, MESS...   0.155075  "
      ]
     },
     "execution_count": 4,
     "metadata": {},
     "output_type": "execute_result"
    }
   ],
   "source": [
    "#use textblob to tokenize the words in each speech\n",
    "df['tokens'] = df.path.apply(lambda x: TextBlob(open(x, encoding='ISO-8859-1').read()).words)\n",
    "#use textblob to perform a sentiment analysis of each speech\n",
    "df['sentiment'] = df.path.apply(lambda x: TextBlob(open(x, encoding='ISO-8859-1').read()).sentiment.polarity)\n",
    "\n",
    "df.head()"
   ]
  },
  {
   "cell_type": "code",
   "execution_count": 5,
   "metadata": {},
   "outputs": [
    {
     "data": {
      "text/plain": [
       "path          object\n",
       "year           int32\n",
       "president     object\n",
       "tokens        object\n",
       "sentiment    float64\n",
       "dtype: object"
      ]
     },
     "execution_count": 5,
     "metadata": {},
     "output_type": "execute_result"
    }
   ],
   "source": [
    "df.dtypes"
   ]
  },
  {
   "cell_type": "code",
   "execution_count": 48,
   "metadata": {},
   "outputs": [
    {
     "data": {
      "image/png": "[encoded data removed]",
      "text/plain": [
       "<matplotlib.figure.Figure at 0x2c07c72a860>"
      ]
     },
     "metadata": {},
     "output_type": "display_data"
    }
   ],
   "source": [
    "g = sns.lmplot(x=\"year\", y=\"sentiment\", hue=\"president\", truncate=True, aspect=2.5, data=df)\n",
    "g._legend.set_title('President')\n",
    "plt.xlabel('Year')\n",
    "plt.ylabel('Sentiment')\n",
    "plt.title('SotU Sentiment Analysis by President')\n",
    "\n",
    "plt.show()"
   ]
  },
  {
   "cell_type": "code",
   "execution_count": 7,
   "metadata": {},
   "outputs": [],
   "source": [
    "#utility function to clean text\n",
    "def text_cleaner(text):\n",
    "    \n",
    "    # Visual inspection shows spaCy does not recognize the double dash '--', get rid of it\n",
    "    text = re.sub(r'--',' ',text)\n",
    "    \n",
    "    # Get rid of headings in brakets.\n",
    "    text = re.sub('[\\[].*?[\\]]', '', text)\n",
    "    \n",
    "    # Get rid of extra whitespace.\n",
    "    text = ' '.join(text.split())\n",
    "    \n",
    "    return text"
   ]
  },
  {
   "cell_type": "code",
   "execution_count": 8,
   "metadata": {},
   "outputs": [],
   "source": [
    "nlp = spacy.load('en')\n",
    "\n",
    "df['text'] = df.path.apply(lambda x: open(x, encoding='ISO-8859-1').read())\n",
    "df['text'] = df.text.apply(lambda x: text_cleaner(x))"
   ]
  },
  {
   "cell_type": "code",
   "execution_count": 9,
   "metadata": {},
   "outputs": [
    {
     "data": {
      "text/html": [
       "<div>\n",
       "<style scoped>\n",
       "    .dataframe tbody tr th:only-of-type {\n",
       "        vertical-align: middle;\n",
       "    }\n",
       "\n",
       "    .dataframe tbody tr th {\n",
       "        vertical-align: top;\n",
       "    }\n",
       "\n",
       "    .dataframe thead th {\n",
       "        text-align: right;\n",
       "    }\n",
       "</style>\n",
       "<table border=\"1\" class=\"dataframe\">\n",
       "  <thead>\n",
       "    <tr style=\"text-align: right;\">\n",
       "      <th></th>\n",
       "      <th>path</th>\n",
       "      <th>year</th>\n",
       "      <th>president</th>\n",
       "      <th>tokens</th>\n",
       "      <th>sentiment</th>\n",
       "      <th>text</th>\n",
       "      <th>nlp</th>\n",
       "    </tr>\n",
       "  </thead>\n",
       "  <tbody>\n",
       "    <tr>\n",
       "      <th>0</th>\n",
       "      <td>state-of-the-union-corpus-1989-2017\\1945-Truma...</td>\n",
       "      <td>1945</td>\n",
       "      <td>Truman</td>\n",
       "      <td>[PRESIDENT, HARRY, S, TRUMAN, 'S, ADDRESS, BEF...</td>\n",
       "      <td>0.103764</td>\n",
       "      <td>PRESIDENT HARRY S. TRUMAN'S ADDRESS BEFORE A J...</td>\n",
       "      <td>(PRESIDENT, HARRY, S., TRUMAN, 'S, ADDRESS, BE...</td>\n",
       "    </tr>\n",
       "    <tr>\n",
       "      <th>1</th>\n",
       "      <td>state-of-the-union-corpus-1989-2017\\1946-Truma...</td>\n",
       "      <td>1946</td>\n",
       "      <td>Truman</td>\n",
       "      <td>[PRESIDENT, HARRY, S, TRUMAN, 'S, MESSAGE, TO,...</td>\n",
       "      <td>0.111545</td>\n",
       "      <td>PRESIDENT HARRY S. TRUMAN'S MESSAGE TO THE CON...</td>\n",
       "      <td>(PRESIDENT, HARRY, S., TRUMAN, 'S, MESSAGE, TO...</td>\n",
       "    </tr>\n",
       "    <tr>\n",
       "      <th>2</th>\n",
       "      <td>state-of-the-union-corpus-1989-2017\\1947-Truma...</td>\n",
       "      <td>1947</td>\n",
       "      <td>Truman</td>\n",
       "      <td>[PRESIDENT, HARRY, S, TRUMAN, 'S, ANNUAL, MESS...</td>\n",
       "      <td>0.136731</td>\n",
       "      <td>PRESIDENT HARRY S. TRUMAN'S ANNUAL MESSAGE TO ...</td>\n",
       "      <td>(PRESIDENT, HARRY, S., TRUMAN, 'S, ANNUAL, MES...</td>\n",
       "    </tr>\n",
       "    <tr>\n",
       "      <th>3</th>\n",
       "      <td>state-of-the-union-corpus-1989-2017\\1948-Truma...</td>\n",
       "      <td>1948</td>\n",
       "      <td>Truman</td>\n",
       "      <td>[PRESIDENT, HARRY, S, TRUMAN, 'S, ANNUAL, MESS...</td>\n",
       "      <td>0.165403</td>\n",
       "      <td>PRESIDENT HARRY S. TRUMAN'S ANNUAL MESSAGE TO ...</td>\n",
       "      <td>(PRESIDENT, HARRY, S., TRUMAN, 'S, ANNUAL, MES...</td>\n",
       "    </tr>\n",
       "    <tr>\n",
       "      <th>4</th>\n",
       "      <td>state-of-the-union-corpus-1989-2017\\1949-Truma...</td>\n",
       "      <td>1949</td>\n",
       "      <td>Truman</td>\n",
       "      <td>[PRESIDENT, HARRY, S, TRUMAN, 'S, ANNUAL, MESS...</td>\n",
       "      <td>0.155075</td>\n",
       "      <td>PRESIDENT HARRY S. TRUMAN'S ANNUAL MESSAGE TO ...</td>\n",
       "      <td>(PRESIDENT, HARRY, S., TRUMAN, 'S, ANNUAL, MES...</td>\n",
       "    </tr>\n",
       "  </tbody>\n",
       "</table>\n",
       "</div>"
      ],
      "text/plain": [
       "                                                path  year president  \\\n",
       "0  state-of-the-union-corpus-1989-2017\\1945-Truma...  1945    Truman   \n",
       "1  state-of-the-union-corpus-1989-2017\\1946-Truma...  1946    Truman   \n",
       "2  state-of-the-union-corpus-1989-2017\\1947-Truma...  1947    Truman   \n",
       "3  state-of-the-union-corpus-1989-2017\\1948-Truma...  1948    Truman   \n",
       "4  state-of-the-union-corpus-1989-2017\\1949-Truma...  1949    Truman   \n",
       "\n",
       "                                              tokens  sentiment  \\\n",
       "0  [PRESIDENT, HARRY, S, TRUMAN, 'S, ADDRESS, BEF...   0.103764   \n",
       "1  [PRESIDENT, HARRY, S, TRUMAN, 'S, MESSAGE, TO,...   0.111545   \n",
       "2  [PRESIDENT, HARRY, S, TRUMAN, 'S, ANNUAL, MESS...   0.136731   \n",
       "3  [PRESIDENT, HARRY, S, TRUMAN, 'S, ANNUAL, MESS...   0.165403   \n",
       "4  [PRESIDENT, HARRY, S, TRUMAN, 'S, ANNUAL, MESS...   0.155075   \n",
       "\n",
       "                                                text  \\\n",
       "0  PRESIDENT HARRY S. TRUMAN'S ADDRESS BEFORE A J...   \n",
       "1  PRESIDENT HARRY S. TRUMAN'S MESSAGE TO THE CON...   \n",
       "2  PRESIDENT HARRY S. TRUMAN'S ANNUAL MESSAGE TO ...   \n",
       "3  PRESIDENT HARRY S. TRUMAN'S ANNUAL MESSAGE TO ...   \n",
       "4  PRESIDENT HARRY S. TRUMAN'S ANNUAL MESSAGE TO ...   \n",
       "\n",
       "                                                 nlp  \n",
       "0  (PRESIDENT, HARRY, S., TRUMAN, 'S, ADDRESS, BE...  \n",
       "1  (PRESIDENT, HARRY, S., TRUMAN, 'S, MESSAGE, TO...  \n",
       "2  (PRESIDENT, HARRY, S., TRUMAN, 'S, ANNUAL, MES...  \n",
       "3  (PRESIDENT, HARRY, S., TRUMAN, 'S, ANNUAL, MES...  \n",
       "4  (PRESIDENT, HARRY, S., TRUMAN, 'S, ANNUAL, MES...  "
      ]
     },
     "execution_count": 9,
     "metadata": {},
     "output_type": "execute_result"
    }
   ],
   "source": [
    "df['nlp'] = df.text.apply(lambda x: nlp(x))\n",
    "df.head()"
   ]
  },
  {
   "cell_type": "code",
   "execution_count": 10,
   "metadata": {},
   "outputs": [],
   "source": [
    "def word_frequencies(text, include_stop=False):\n",
    "    \n",
    "    # Build a list of words.\n",
    "    # Strip out punctuation and, optionally, stop words.\n",
    "    words = []\n",
    "    for token in text:\n",
    "        if not token.is_punct and (not token.is_stop or include_stop):\n",
    "            words.append(token.text)\n",
    "            \n",
    "    # Build and return a Counter object containing word counts.\n",
    "    return Counter(words)"
   ]
  },
  {
   "cell_type": "code",
   "execution_count": 22,
   "metadata": {},
   "outputs": [
    {
     "name": "stdout",
     "output_type": "stream",
     "text": [
      "Truman 1945 [('peace', 23), ('world', 20), ('America', 11), ('people', 10), ('nations', 10), ('hope', 8), ('freedom', 7), ('great', 6), ('shall', 6), ('man', 5)]\n",
      "Truman 1946 [('dollars', 207), ('year', 181), ('war', 165), ('million', 137), ('fiscal', 125), ('expenditures', 93), ('United', 91), ('program', 90), ('Government', 90), ('1947', 84)]\n",
      "Truman 1947 [('Congress', 27), ('labor', 26), ('national', 22), ('program', 21), ('management', 18), ('Government', 17), ('war', 16), ('year', 15), ('world', 15), ('housing', 14)]\n",
      "Truman 1948 [('world', 29), ('economic', 23), ('people', 22), ('great', 17), ('Nation', 15), ('Congress', 14), ('program', 14), ('tax', 14), ('United', 13), ('States', 13)]\n",
      "Truman 1949 [('Congress', 17), ('Government', 17), ('people', 15), ('world', 14), ('prosperity', 12), ('production', 12), ('good', 10), ('great', 10), ('housing', 10), ('economy', 9)]\n",
      "Truman 1950 [('world', 27), ('Congress', 20), ('economic', 19), ('years', 18), ('life', 17), ('great', 15), ('people', 15), ('country', 15), ('new', 14), ('peace', 13)]\n",
      "Truman 1951 [('world', 31), ('free', 30), ('nations', 21), ('Soviet', 19), ('defense', 17), ('military', 16), ('strength', 16), ('need', 15), ('freedom', 13), ('country', 12)]\n",
      "Eisenhower 1953 [('Government', 25), ('Federal', 21), ('security', 19), ('economic', 19), ('Nation', 18), ('policy', 18), ('people', 17), ('freedom', 17), ('labor', 17), ('Congress', 16)]\n",
      "Eisenhower 1954 [('government', 27), ('shall', 26), ('program', 25), ('Congress', 24), ('year', 21), ('Federal', 21), ('new', 20), ('world', 19), ('people', 15), ('security', 14)]\n",
      "Eisenhower 1955 [('Federal', 40), ('shall', 29), ('government', 29), ('military', 28), ('year', 28), ('people', 26), ('program', 26), ('Congress', 24), ('economic', 22), (\"'s\", 21)]\n",
      "Eisenhower 1956 [('program', 39), ('year', 35), ('Federal', 32), ('people', 30), ('Congress', 28), ('new', 26), ('legislation', 22), ('system', 20), ('shall', 19), ('national', 18)]\n",
      "Eisenhower 1957 [('world', 24), ('Congress', 17), ('free', 16), ('security', 16), (\"'s\", 15), ('nations', 12), ('economy', 12), ('people', 11), ('new', 10), ('United', 10)]\n",
      "Eisenhower 1958 [('military', 28), ('world', 27), ('peace', 24), ('strength', 20), ('security', 20), ('people', 19), ('economic', 19), ('effort', 15), ('power', 14), ('real', 11)]\n",
      "Eisenhower 1959 [('world', 22), (\"'s\", 16), ('freedom', 16), ('Congress', 15), ('nation', 15), ('Federal', 15), ('year', 14), ('America', 13), ('economy', 12), ('free', 11)]\n",
      "Eisenhower 1960 [('nations', 24), ('world', 21), ('peace', 18), (\"'s\", 17), ('nation', 17), ('freedom', 17), ('years', 16), ('World', 16), ('progress', 14), ('year', 13)]\n",
      "Kennedy 1961 [('new', 29), ('Congress', 23), ('freedom', 22), ('nation', 19), ('defense', 18), ('dollars', 17), ('space', 16), ('program', 15), ('time', 14), ('world', 13)]\n",
      "Kennedy 1962 [('new', 41), ('year', 19), ('Congress', 18), ('world', 18), ('free', 18), (\"'s\", 17), ('strength', 15), ('United', 13), ('long', 12), ('help', 12)]\n",
      "Johnson 1963 [('action', 10), ('strong', 9), ('dream', 8), ('Nation', 8), ('let', 8), ('act', 8), ('time', 7), ('Kennedy', 7), ('forward', 7), (\"'s\", 7)]\n",
      "Kennedy 1963 [('world', 24), ('year', 20), ('free', 18), ('nations', 18), ('tax', 18), ('defense', 17), ('new', 14), ('help', 13), ('billion', 13), ('need', 13)]\n",
      "Johnson 1964 [('$', 14), ('session', 12), ('public', 11), ('million', 10), ('new', 10), ('Americans', 9), ('Congress', 9), ('country', 9), ('help', 9), ('year', 8)]\n",
      "Johnson 1965 [('new', 20), ('help', 19), ('American', 17), ('people', 16), ('world', 15), ('seek', 14), ('America', 13), ('propose', 13), ('Nation', 12), ('years', 12)]\n",
      "Johnson 1965 [('right', 29), ('rights', 17), ('tonight', 15), ('American', 15), ('bill', 15), ('man', 14), ('people', 14), ('President', 13), ('Americans', 11), ('country', 11)]\n",
      "Johnson 1966 [('people', 35), ('Vietnam', 32), ('year', 23), ('tonight', 22), ('world', 17), ('Nation', 16), ('help', 16), ('South', 15), ('peace', 14), ('America', 13)]\n",
      "Johnson 1967 [('Congress', 28), ('people', 25), ('years', 24), ('$', 24), ('new', 23), ('Vietnam', 21), ('great', 19), ('percent', 19), ('war', 18), ('Americans', 17)]\n",
      "Johnson 1968 [('year', 36), ('$', 35), ('Congress', 32), ('billion', 27), (\"'s\", 22), ('America', 17), ('people', 17), ('new', 16), ('American', 15), ('million', 14)]\n",
      "Johnson 1969 [('Congress', 31), ('years', 25), ('year', 20), ('think', 19), ('believe', 17), ('$', 13), ('world', 13), ('President', 12), ('tonight', 12), ('Nation', 12)]\n",
      "Nixon 1970 [('new', 32), ('America', 27), ('people', 23), ('Congress', 19), ('world', 18), ('time', 16), ('American', 16), ('peace', 16), ('programs', 13), ('shall', 13)]\n",
      "Nixon 1971 [('Congress', 36), ('people', 31), ('government', 29), ('new', 23), ('great', 19), ('States', 19), ('America', 18), ('Federal', 17), ('American', 13), ('open', 12)]\n",
      "Nixon 1972 [('new', 23), ('Congress', 22), ('America', 19), ('Nation', 18), ('years', 16), ('world', 16), ('year', 16), ('great', 14), ('meet', 13), ('help', 10)]\n",
      "Nixon 1973 [('Government', 13), ('Congress', 9), ('people', 9), ('American', 9), ('State', 8), ('Union', 8), ('years', 8), ('resources', 7), ('better', 7), ('1973', 6)]\n",
      "Nixon 1974 [('years', 39), ('year', 28), ('America', 27), ('peace', 25), ('new', 22), ('Congress', 20), ('American', 20), ('people', 19), ('time', 18), ('world', 18)]\n",
      "Ford 1975 [('new', 25), ('$', 24), ('energy', 24), ('world', 23), ('Congress', 21), ('oil', 19), ('Federal', 17), ('tax', 17), (\"'s\", 14), ('years', 13)]\n",
      "Ford 1976 [('Federal', 34), ('year', 30), ('America', 21), (\"'s\", 18), ('people', 18), ('Americans', 16), ('American', 16), ('new', 16), ('programs', 15), ('world', 15)]\n",
      "Ford 1977 [('President', 23), ('Congress', 21), ('new', 19), ('energy', 19), ('years', 17), ('people', 17), ('peace', 16), (\"'s\", 14), ('world', 14), ('Federal', 14)]\n",
      "Carter 1978 [('people', 26), ('world', 22), (\"'s\", 21), ('year', 19), (\"'ve\", 18), ('American', 17), ('inflation', 15), ('economic', 13), ('Government', 13), ('policy', 13)]\n",
      "Carter 1979 [('world', 31), (\"'s\", 22), ('American', 17), ('peace', 17), ('government', 17), ('new', 15), ('year', 15), ('people', 15), ('inflation', 15), ('foundation', 13)]\n",
      "Carter 1980 [('Soviet', 31), (\"'s\", 27), ('world', 24), ('America', 22), ('peace', 21), ('Union', 16), ('States', 14), ('military', 13), ('United', 13), ('security', 13)]\n",
      "Reagan 1981 [('program', 28), ('$', 27), ('tax', 25), ('billion', 24), ('Federal', 19), (\"'s\", 17), ('government', 17), ('programs', 17), ('years', 15), ('jobs', 14)]\n",
      "Reagan 1982 [(\"'s\", 30), ('programs', 27), ('Federal', 23), ('government', 22), (\"'ve\", 21), ('America', 20), ('people', 17), ('tax', 16), ('American', 15), ('program', 15)]\n",
      "Reagan 1983 [(\"'s\", 34), ('America', 25), ('American', 20), ('people', 19), ('year', 19), ('economic', 18), ('government', 16), ('spending', 16), ('Americans', 15), ('world', 14)]\n",
      "Reagan 1984 [(\"'s\", 39), ('America', 30), ('peace', 24), ('people', 23), (\"'re\", 13), ('government', 13), ('freedom', 13), ('Americans', 13), ('tax', 13), ('hope', 12)]\n",
      "Reagan 1985 [('years', 24), (\"'s\", 21), ('freedom', 19), ('new', 17), ('American', 16), (\"'re\", 15), ('tax', 15), ('economy', 14), ('time', 14), ('growth', 13)]\n",
      "Reagan 1986 [('America', 31), (\"'s\", 30), ('people', 14), ('future', 14), ('American', 12), ('work', 12), ('free', 11), ('world', 11), ('freedom', 10), ('family', 10)]\n",
      "Reagan 1987 [(\"'s\", 34), ('America', 26), ('people', 24), ('Congress', 23), (\"n't\", 18), ('let', 15), ('world', 14), ('freedom', 13), ('new', 11), ('American', 11)]\n",
      "Reagan 1988 [(\"'s\", 48), ('America', 31), ('let', 22), ('freedom', 20), ('government', 19), ('years', 18), ('world', 18), ('family', 16), ('people', 16), ('year', 16)]\n",
      "Bush 1989 [(\"'s\", 39), ('America', 32), ('new', 22), ('tonight', 20), ('budget', 17), ('future', 15), ('time', 15), (\"'ve\", 14), ('ask', 13), ('people', 13)]\n",
      "Bush 1990 [(\"'s\", 57), ('America', 24), ('world', 23), ('American', 20), ('new', 17), ('year', 16), ('time', 15), (\"'ve\", 13), ('free', 13), ('future', 12)]\n",
      "Bush 1991 [(\"'s\", 34), ('world', 29), ('America', 20), ('know', 18), ('American', 17), ('freedom', 14), ('future', 14), ('people', 13), ('power', 12), ('States', 11)]\n"
     ]
    },
    {
     "name": "stdout",
     "output_type": "stream",
     "text": [
      "Bush 1991 [('world', 24), ('war', 20), ('peace', 15), (\"'s\", 14), ('people', 13), ('American', 12), ('home', 12), ('new', 12), ('time', 10), ('Let', 10)]\n",
      "Bush 1992 [(\"'s\", 48), ('people', 26), ('know', 24), ('world', 23), ('plan', 23), ('right', 19), (\"n't\", 18), ('American', 18), ('country', 17), ('new', 17)]\n",
      "Clinton 1993 [('people', 45), (\"'s\", 33), ('new', 29), ('American', 28), ('plan', 26), ('country', 26), ('Government', 24), ('care', 24), ('jobs', 24), ('work', 23)]\n",
      "Clinton 1994 [('people', 63), (\"'s\", 52), ('health', 41), ('care', 40), ('work', 34), ('year', 31), (\"n't\", 31), ('Congress', 24), ('American', 22), ('world', 22)]\n",
      "Clinton 1995 [(\"'s\", 80), ('people', 73), ('work', 42), (\"n't\", 39), ('Government', 35), ('country', 34), ('years', 29), ('year', 29), ('time', 28), ('way', 28)]\n",
      "Clinton 1996 [(\"'s\", 46), ('people', 40), ('challenge', 40), ('children', 37), ('work', 36), ('America', 34), ('Congress', 30), ('working', 26), ('Americans', 25), ('American', 24)]\n",
      "Clinton 1997 [('America', 48), (\"'s\", 40), ('new', 32), ('years', 32), ('people', 30), ('world', 29), ('children', 24), ('Americans', 22), ('work', 21), ('budget', 17)]\n",
      "Clinton 1998 [(\"'s\", 52), ('new', 46), ('America', 44), ('year', 33), ('years', 26), ('Congress', 25), ('children', 24), ('people', 22), ('ask', 22), ('American', 20)]\n",
      "Clinton 1999 [(\"'s\", 54), ('America', 36), ('century', 35), ('year', 30), ('Americans', 29), ('work', 29), ('years', 29), ('new', 28), ('support', 28), ('Congress', 26)]\n",
      "Clinton 2000 [(\"'s\", 67), ('new', 46), ('ask', 43), ('people', 41), ('children', 38), ('years', 35), ('help', 35), ('America', 33), ('year', 28), ('work', 27)]\n",
      "GWBush 2001 [('budget', 25), ('tax', 17), ('America', 15), ('care', 15), ('Social', 15), ('Security', 15), ('$', 15), ('money', 15), ('years', 15), ('government', 14)]\n",
      "GWBush 2002 [('America', 33), ('â\\x80\\x94', 22), ('world', 19), (\"'s\", 18), ('security', 17), ('American', 15), ('people', 14), ('terror', 14), ('Afghanistan', 13), ('nation', 12)]\n",
      "GWBush 2003 [('â\\x80\\x94', 41), ('people', 32), ('America', 27), ('weapons', 27), ('world', 26), (\"'s\", 25), ('country', 20), ('Saddam', 19), ('Hussein', 19), ('Americans', 17)]\n",
      "GWBush 2004 [('America', 37), ('people', 22), (\"'s\", 22), ('help', 17), ('Iraq', 17), ('health', 16), ('law', 15), ('new', 14), ('Americans', 14), ('economy', 14)]\n",
      "GWBush 2005 [('â\\x80\\x94', 44), ('America', 20), ('freedom', 20), ('Security', 19), ('people', 18), (\"'s\", 18), ('Social', 18), ('country', 16), ('Congress', 15), ('new', 15)]\n",
      "GWBush 2006 [('â\\x80\\x93', 67), ('America', 38), ('â\\x80¦', 30), ('world', 26), ('people', 21), ('American', 18), ('country', 17), ('economy', 16), ('freedom', 15), ('Congress', 12)]\n",
      "GWBush 2007 [('â\\x80\\x94', 50), ('America', 28), (\"'s\", 27), ('Iraq', 21), ('people', 18), ('help', 17), ('new', 16), (\"'re\", 16), ('government', 15), ('need', 15)]\n",
      "GWBush 2008 [('America', 34), ('people', 31), ('Congress', 27), ('year', 25), ('new', 24), ('Iraq', 22), (\"'ve\", 21), ('American', 20), ('help', 19), ('nation', 18)]\n",
      "Obama 2009 [('â\\x80\\x94', 26), (\"'s\", 25), ('American', 25), (\"n't\", 23), ('know', 22), ('economy', 22), ('plan', 21), ('people', 19), ('new', 19), ('health', 19)]\n",
      "Obama 2010 [(\"'s\", 90), (\"n't\", 34), ('people', 32), ('year', 29), ('Americans', 28), (\"'ve\", 27), ('-â\\x80\\x93', 27), (\"'re\", 27), ('America', 24), ('jobs', 23)]\n",
      "Obama 2011 [('â\\x80\\x93', 47), ('new', 33), ('people', 30), ('years', 25), ('jobs', 25), ('work', 21), ('American', 19), ('America', 18), ('government', 18), ('Itâ\\x80\\x99s', 15)]\n",
      "Obama 2012 [('American', 34), ('jobs', 32), ('America', 29), ('new', 26), ('energy', 23), ('tax', 22), ('Americans', 20), ('people', 20), ('year', 20), ('right', 20)]\n",
      "Obama 2013 [('â\\x80\\x93', 41), ('jobs', 30), ('America', 23), ('years', 22), ('new', 21), ('American', 19), ('people', 18), ('time', 18), ('like', 18), ('year', 18)]\n",
      "Obama 2014 [('â\\x80\\x93', 62), ('help', 31), ('new', 28), ('work', 28), ('Americans', 27), ('America', 27), ('people', 24), ('jobs', 23), ('American', 21), ('Congress', 20)]\n",
      "Obama 2015 [(\"'s\", 94), ('new', 38), ('America', 38), (\"'ve\", 31), (\"n't\", 29), ('years', 25), ('time', 22), ('people', 22), ('world', 21), ('work', 20)]\n",
      "Obama 2016 [(\"'s\", 93), (\"n't\", 43), ('America', 33), ('people', 26), (\"'ve\", 24), ('work', 22), ('world', 22), ('American', 22), ('years', 18), ('change', 18)]\n"
     ]
    }
   ],
   "source": [
    "from collections import Counter\n",
    "\n",
    "freq_list = []\n",
    "for speeches in df.nlp:\n",
    "    sotus_freq = word_frequencies(speeches, include_stop=False).most_common(10)\n",
    "    freq_list.append(sotus_freq)\n",
    "    \n",
    "for a, b, c in zip(df.president, df.year, freq_list):\n",
    "    print(a, b, c)"
   ]
  },
  {
   "cell_type": "code",
   "execution_count": 31,
   "metadata": {},
   "outputs": [],
   "source": [
    "from sklearn.feature_extraction.text import TfidfVectorizer\n",
    "from sklearn.model_selection import train_test_split\n",
    "from sklearn.cluster import KMeans\n",
    "from nltk.corpus import stopwords\n",
    "\n",
    "X_train, X_test = train_test_split(df.text, test_size=0.4, random_state=0)\n",
    "\n",
    "vectorizer = TfidfVectorizer(max_df=0.5, # drop words that occur in more than half the paragraphs\n",
    "                             min_df=2, # only use words that appear at least twice\n",
    "                             stop_words='english', \n",
    "                             lowercase=True, #convert everything to lower case (since Alice in Wonderland has the HABIT of CAPITALIZING WORDS for EMPHASIS)\n",
    "                             use_idf=True,#we definitely want to use inverse document frequencies in our weighting\n",
    "                             norm=u'l2', #Applies a correction factor so that longer paragraphs and shorter paragraphs get treated equally\n",
    "                             smooth_idf=True #Adds 1 to all document frequencies, as if an extra document existed that used every word once.  Prevents divide-by-zero errors\n",
    "                            )"
   ]
  },
  {
   "cell_type": "code",
   "execution_count": 38,
   "metadata": {},
   "outputs": [
    {
     "name": "stdout",
     "output_type": "stream",
     "text": [
      "Number of features: 7749\n"
     ]
    }
   ],
   "source": [
    "#Applying the vectorizer\n",
    "sotus_tfidf = vectorizer.fit_transform(df.text)\n",
    "print(\"Number of features: %d\" % sotus_tfidf.get_shape()[1])"
   ]
  },
  {
   "cell_type": "code",
   "execution_count": 49,
   "metadata": {},
   "outputs": [],
   "source": [
    "#splitting into training and test sets\n",
    "X_train_tfidf, X_test_tfidf= train_test_split(sotus_tfidf, test_size=0.4, random_state=0)"
   ]
  },
  {
   "cell_type": "code",
   "execution_count": 51,
   "metadata": {},
   "outputs": [
    {
     "name": "stdout",
     "output_type": "stream",
     "text": [
      "Percent variance captured by all components: 100.00000000000009\n"
     ]
    }
   ],
   "source": [
    "from sklearn.decomposition import TruncatedSVD\n",
    "from sklearn.pipeline import make_pipeline\n",
    "from sklearn.preprocessing import Normalizer\n",
    "\n",
    "#Our SVD data reducer.  We are going to reduce the feature space from 1379 to 130.\n",
    "svd= TruncatedSVD(130)\n",
    "lsa = make_pipeline(svd, Normalizer(copy=False))\n",
    "# Run SVD on the training data, then project the training data.\n",
    "X_train_lsa = lsa.fit_transform(X_train_tfidf)"
   ]
  },
  {
   "cell_type": "code",
   "execution_count": 35,
   "metadata": {},
   "outputs": [],
   "source": [
    "terms = vectorizer.get_feature_names()"
   ]
  },
  {
   "cell_type": "code",
   "execution_count": 52,
   "metadata": {
    "scrolled": true
   },
   "outputs": [],
   "source": [
    "y_pred = KMeans(n_clusters=12, random_state=42).fit_predict(X_train_lsa)\n",
    "\n",
    "clusters = km.labels_.tolist()"
   ]
  },
  {
   "cell_type": "code",
   "execution_count": 56,
   "metadata": {},
   "outputs": [
    {
     "data": {
      "image/png": "[encoded data removed]",
      "text/plain": [
       "<matplotlib.figure.Figure at 0x2c07c76d208>"
      ]
     },
     "metadata": {},
     "output_type": "display_data"
    }
   ],
   "source": [
    "# Plot the solution.\n",
    "plt.scatter(X_train_lsa[:, 0], X_train_lsa[:, 1], c=y_pred)\n",
    "plt.show()"
   ]
  },
  {
   "cell_type": "code",
   "execution_count": null,
   "metadata": {},
   "outputs": [],
   "source": []
  }
 ],
 "metadata": {
  "kernelspec": {
   "display_name": "Python 3",
   "language": "python",
   "name": "python3"
  },
  "language_info": {
   "codemirror_mode": {
    "name": "ipython",
    "version": 3
   },
   "file_extension": ".py",
   "mimetype": "text/x-python",
   "name": "python",
   "nbconvert_exporter": "python",
   "pygments_lexer": "ipython3",
   "version": "3.6.5"
  }
 },
 "nbformat": 4,
 "nbformat_minor": 2
}
